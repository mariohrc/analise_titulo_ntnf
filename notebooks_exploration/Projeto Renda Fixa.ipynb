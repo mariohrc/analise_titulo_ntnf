{
 "cells": [
  {
   "cell_type": "code",
   "execution_count": 1,
   "id": "45620171-8dae-48e3-8d92-b683ffdb453b",
   "metadata": {},
   "outputs": [
    {
     "data": {
      "text/plain": [
       "'C:\\\\Users\\\\PICHAU\\\\MarioCesa_Turma780_AnalisePrefixado'"
      ]
     },
     "execution_count": 1,
     "metadata": {},
     "output_type": "execute_result"
    }
   ],
   "source": [
    "import os\n",
    "from datetime import datetime\n",
    "from datetime import date\n",
    "import numpy as np\n",
    "import pandas as pd\n",
    "# debsable warnings\n",
    "import warnings\n",
    "warnings.filterwarnings('ignore')\n",
    "\n",
    "# change directory\n",
    "os.chdir(\"../\")\n",
    "\n",
    "# print current directory\n",
    "os.getcwd()"
   ]
  },
  {
   "cell_type": "code",
   "execution_count": 2,
   "id": "808dbeec-e50c-4b9c-8f0e-b15034bc20ca",
   "metadata": {},
   "outputs": [],
   "source": [
    "data_feriado = pd.read_csv('../MarioCesa_Turma780_AnalisePrefixado/data/feriados_nacionais_utf8.csv', sep=';')\n",
    "feriado_list = data_feriado.dropna().Data.tolist()"
   ]
  },
  {
   "cell_type": "code",
   "execution_count": 3,
   "id": "62ece2ca-c138-4378-a1e5-6b4b6f9af7e9",
   "metadata": {},
   "outputs": [],
   "source": [
    "def calcula_prazo(dt_ini, dt_fim=[], feriados=[] , convencao = 'DU'):\n",
    "    \n",
    "    feriados_time=[]\n",
    "    days_count=[]\n",
    "    \n",
    "    for value in feriados:\n",
    "        feriados_time.append(datetime.strptime(value, '%d/%m/%Y').date())\n",
    "    \n",
    "    for value in dt_fim:    \n",
    "        if convencao == 'DU':\n",
    "            days = np.busday_count(dt_ini, value.date(), holidays=feriados_time)\n",
    "            days_count.append(days)\n",
    "\n",
    "        elif convencao == 'DC':\n",
    "            days = np.busday_count(dt_ini, value.date(), weekmask= '1111111', holidays=feriados_time)\n",
    "            days_count.append(days)\n",
    "            \n",
    "    if convencao == 'DU':\n",
    "        days_div = [x / 252 for x in days_count]\n",
    "        return days_count, days_div\n",
    "    \n",
    "    elif convencao == 'DC':\n",
    "        days_div = [x / 360 for x in days_count]\n",
    "        return days_count, days_div"
   ]
  },
  {
   "cell_type": "code",
   "execution_count": 4,
   "id": "d6587e0e-7bb4-4afa-bb33-e3e139e87d22",
   "metadata": {},
   "outputs": [],
   "source": [
    "def constroi_fluxo(dt_fim, frequencia='6MS'):\n",
    "    date = datetime.today().date()\n",
    "    \n",
    "    if date.month < 7:\n",
    "        date = date.replace(month=6)\n",
    "        datelist = pd.date_range(date, end= dt_fim, freq= frequencia, inclusive='both')\n",
    "        return datelist\n",
    "    else:\n",
    "        date = date.replace(month=12)\n",
    "        datelist = pd.date_range(date, end= dt_fim, freq= frequencia, inclusive='both')\n",
    "        return datelist"
   ]
  },
  {
   "cell_type": "code",
   "execution_count": 5,
   "id": "72e43573-cadf-4225-8384-7a6d8c4a5fdf",
   "metadata": {},
   "outputs": [],
   "source": [
    "def calcula_pu(taxa_anual, VF=1000, prazo_anual=[]):\n",
    "    \n",
    "    val_cupom = []\n",
    "    for value in prazo_anual:\n",
    "        valor_acru = 48.808850/((1+taxa_anual)**value)\n",
    "        val_cupom.append(valor_acru)\n",
    "        \n",
    "    valor_calc = VF/(1+taxa_anual)**prazo_anual[-1]\n",
    "    val_cupom[-1] = val_cupom[-1]+valor_calc\n",
    "    \n",
    "    \n",
    "    return val_cupom"
   ]
  },
  {
   "cell_type": "code",
   "execution_count": 6,
   "id": "78455847-658f-41d4-89d2-51292a66bb24",
   "metadata": {},
   "outputs": [],
   "source": [
    "lista = constroi_fluxo('01/01/2031')"
   ]
  },
  {
   "cell_type": "code",
   "execution_count": 7,
   "id": "2e5cf9f1-b887-4f93-b6cb-a1d0c3a63fcb",
   "metadata": {},
   "outputs": [
    {
     "data": {
      "text/plain": [
       "DatetimeIndex(['2022-07-01', '2023-01-01', '2023-07-01', '2024-01-01',\n",
       "               '2024-07-01', '2025-01-01', '2025-07-01', '2026-01-01',\n",
       "               '2026-07-01', '2027-01-01', '2027-07-01', '2028-01-01',\n",
       "               '2028-07-01', '2029-01-01', '2029-07-01', '2030-01-01',\n",
       "               '2030-07-01', '2031-01-01'],\n",
       "              dtype='datetime64[ns]', freq='6MS')"
      ]
     },
     "execution_count": 7,
     "metadata": {},
     "output_type": "execute_result"
    }
   ],
   "source": [
    "lista"
   ]
  },
  {
   "cell_type": "code",
   "execution_count": 8,
   "id": "91fd2d6d-5465-4f15-be41-f1b121731e28",
   "metadata": {},
   "outputs": [],
   "source": [
    "dias , tn = calcula_prazo(datetime.today().date(), lista, feriados = feriado_list)"
   ]
  },
  {
   "cell_type": "code",
   "execution_count": 9,
   "id": "bf566f9d-4026-4eff-a820-b1ee327b03d7",
   "metadata": {},
   "outputs": [
    {
     "data": {
      "text/plain": [
       "[89,\n",
       " 216,\n",
       " 340,\n",
       " 465,\n",
       " 589,\n",
       " 719,\n",
       " 841,\n",
       " 972,\n",
       " 1094,\n",
       " 1222,\n",
       " 1345,\n",
       " 1473,\n",
       " 1597,\n",
       " 1722,\n",
       " 1846,\n",
       " 1972,\n",
       " 2095,\n",
       " 2225]"
      ]
     },
     "execution_count": 9,
     "metadata": {},
     "output_type": "execute_result"
    }
   ],
   "source": [
    "dias"
   ]
  },
  {
   "cell_type": "code",
   "execution_count": 10,
   "id": "95c35a49-79fe-4b5f-989d-6d2f49f320df",
   "metadata": {},
   "outputs": [
    {
     "data": {
      "text/plain": [
       "[0.3531746031746032,\n",
       " 0.8571428571428571,\n",
       " 1.3492063492063493,\n",
       " 1.8452380952380953,\n",
       " 2.3373015873015874,\n",
       " 2.8531746031746033,\n",
       " 3.3373015873015874,\n",
       " 3.857142857142857,\n",
       " 4.341269841269841,\n",
       " 4.849206349206349,\n",
       " 5.337301587301587,\n",
       " 5.845238095238095,\n",
       " 6.337301587301587,\n",
       " 6.833333333333333,\n",
       " 7.325396825396825,\n",
       " 7.825396825396825,\n",
       " 8.313492063492063,\n",
       " 8.829365079365079]"
      ]
     },
     "execution_count": 10,
     "metadata": {},
     "output_type": "execute_result"
    }
   ],
   "source": [
    "tn"
   ]
  },
  {
   "cell_type": "code",
   "execution_count": 11,
   "id": "5d411cb5-473c-4d93-be9e-35304b5b0c6f",
   "metadata": {},
   "outputs": [],
   "source": [
    "pu = calcula_pu(0.1148, prazo_anual = tn)"
   ]
  },
  {
   "cell_type": "code",
   "execution_count": 12,
   "id": "7a76b80e-07b4-45c6-a4e6-800dd926871a",
   "metadata": {},
   "outputs": [
    {
     "data": {
      "text/plain": [
       "[46.971000141218,\n",
       " 44.46763559751986,\n",
       " 42.152189412010806,\n",
       " 39.940081486061956,\n",
       " 37.8603867129272,\n",
       " 35.79623969508672,\n",
       " 33.96159554442699,\n",
       " 32.096166032032606,\n",
       " 30.45115963552681,\n",
       " 28.81580635197005,\n",
       " 27.327138977518473,\n",
       " 25.859558530928243,\n",
       " 24.513041781053527,\n",
       " 23.226620013420902,\n",
       " 22.01720134319723,\n",
       " 20.852764278747827,\n",
       " 19.775479490332422,\n",
       " 401.7696738647863]"
      ]
     },
     "execution_count": 12,
     "metadata": {},
     "output_type": "execute_result"
    }
   ],
   "source": [
    "pu"
   ]
  },
  {
   "cell_type": "code",
   "execution_count": 13,
   "id": "ca116cef-7e04-4f82-b91e-88685536af8a",
   "metadata": {},
   "outputs": [],
   "source": [
    "def calcula_taxa_anual(VF, PU, prazo_anual, valor_base=100):\n",
    "    \n",
    "    vl_tx_anual = ((VF / PU) ** (1/prazo_anual)) - 1\n",
    "    \n",
    "    print(f'{vl_tx_anual*valor_base:.2f}% ao ano.')\n",
    "    \n",
    "    return vl_tx_anual*valor_base"
   ]
  },
  {
   "cell_type": "code",
   "execution_count": 14,
   "id": "8d07482f-68cb-4432-b3f4-5cdea90f5814",
   "metadata": {},
   "outputs": [
    {
     "name": "stdout",
     "output_type": "stream",
     "text": [
      "11.48% ao ano.\n"
     ]
    }
   ],
   "source": [
    "taxa = calcula_taxa_anual(48.8088 , pu[1], tn[1])"
   ]
  },
  {
   "cell_type": "code",
   "execution_count": 15,
   "id": "0af1806d-ff19-440a-9425-9907d024630c",
   "metadata": {},
   "outputs": [],
   "source": [
    "def calcula_pu_ntnf(dt_venc, tir, feriados, dt_base=datetime.today().date()):\n",
    "    \n",
    "    lista_vf = []\n",
    "    lista_fator_desc= []\n",
    "    \n",
    "    lista = constroi_fluxo(dt_venc)\n",
    "    dias , tn = calcula_prazo(dt_base, lista, feriados = feriados)\n",
    "    pu = calcula_pu(tir, prazo_anual = tn)\n",
    "    lista = lista.strftime('%d/%m/%Y')\n",
    "    \n",
    "    for value in range(len(lista)):\n",
    "        if value != len(lista)-1:\n",
    "            lista_vf.append(48.8088)\n",
    "        else:\n",
    "            lista_vf.append(1048.8088)\n",
    "            \n",
    "    for value in tn:\n",
    "        fator_desc = (1+tir)**value\n",
    "        lista_fator_desc.append(fator_desc)\n",
    "    \n",
    "    df = pd.DataFrame(list(zip(lista, lista_vf, dias, tn, pu, lista_fator_desc )),\n",
    "               columns =['Data', 'VF','Prazo Dias Uteis','Prazo Anualizado',\n",
    "                         'PU', 'Fator de Desconto']).set_index('Data')\n",
    "    pu_soma = sum(pu)\n",
    "    \n",
    "    print(f'O valor de PU é R${pu_soma:.2f}')\n",
    "    \n",
    "    return pu_soma, df"
   ]
  },
  {
   "cell_type": "code",
   "execution_count": 16,
   "id": "d0ceabc7-2970-4c76-9964-4ba8c995ce39",
   "metadata": {},
   "outputs": [
    {
     "name": "stdout",
     "output_type": "stream",
     "text": [
      "O valor de PU é R$937.85\n"
     ]
    }
   ],
   "source": [
    "pu, df = calcula_pu_ntnf('01/01/2031', 0.1148, feriados=feriado_list )"
   ]
  },
  {
   "cell_type": "code",
   "execution_count": 17,
   "id": "b161927c-19aa-46a5-8a66-2e74965e098b",
   "metadata": {},
   "outputs": [
    {
     "data": {
      "text/html": [
       "<div>\n",
       "<style scoped>\n",
       "    .dataframe tbody tr th:only-of-type {\n",
       "        vertical-align: middle;\n",
       "    }\n",
       "\n",
       "    .dataframe tbody tr th {\n",
       "        vertical-align: top;\n",
       "    }\n",
       "\n",
       "    .dataframe thead th {\n",
       "        text-align: right;\n",
       "    }\n",
       "</style>\n",
       "<table border=\"1\" class=\"dataframe\">\n",
       "  <thead>\n",
       "    <tr style=\"text-align: right;\">\n",
       "      <th></th>\n",
       "      <th>VF</th>\n",
       "      <th>Prazo Dias Uteis</th>\n",
       "      <th>Prazo Anualizado</th>\n",
       "      <th>PU</th>\n",
       "      <th>Fator de Desconto</th>\n",
       "    </tr>\n",
       "    <tr>\n",
       "      <th>Data</th>\n",
       "      <th></th>\n",
       "      <th></th>\n",
       "      <th></th>\n",
       "      <th></th>\n",
       "      <th></th>\n",
       "    </tr>\n",
       "  </thead>\n",
       "  <tbody>\n",
       "    <tr>\n",
       "      <th>01/07/2022</th>\n",
       "      <td>48.8088</td>\n",
       "      <td>89</td>\n",
       "      <td>0.353175</td>\n",
       "      <td>46.971000</td>\n",
       "      <td>1.039127</td>\n",
       "    </tr>\n",
       "    <tr>\n",
       "      <th>01/01/2023</th>\n",
       "      <td>48.8088</td>\n",
       "      <td>216</td>\n",
       "      <td>0.857143</td>\n",
       "      <td>44.467636</td>\n",
       "      <td>1.097626</td>\n",
       "    </tr>\n",
       "    <tr>\n",
       "      <th>01/07/2023</th>\n",
       "      <td>48.8088</td>\n",
       "      <td>340</td>\n",
       "      <td>1.349206</td>\n",
       "      <td>42.152189</td>\n",
       "      <td>1.157920</td>\n",
       "    </tr>\n",
       "    <tr>\n",
       "      <th>01/01/2024</th>\n",
       "      <td>48.8088</td>\n",
       "      <td>465</td>\n",
       "      <td>1.845238</td>\n",
       "      <td>39.940081</td>\n",
       "      <td>1.222052</td>\n",
       "    </tr>\n",
       "    <tr>\n",
       "      <th>01/07/2024</th>\n",
       "      <td>48.8088</td>\n",
       "      <td>589</td>\n",
       "      <td>2.337302</td>\n",
       "      <td>37.860387</td>\n",
       "      <td>1.289180</td>\n",
       "    </tr>\n",
       "    <tr>\n",
       "      <th>01/01/2025</th>\n",
       "      <td>48.8088</td>\n",
       "      <td>719</td>\n",
       "      <td>2.853175</td>\n",
       "      <td>35.796240</td>\n",
       "      <td>1.363519</td>\n",
       "    </tr>\n",
       "    <tr>\n",
       "      <th>01/07/2025</th>\n",
       "      <td>48.8088</td>\n",
       "      <td>841</td>\n",
       "      <td>3.337302</td>\n",
       "      <td>33.961596</td>\n",
       "      <td>1.437178</td>\n",
       "    </tr>\n",
       "    <tr>\n",
       "      <th>01/01/2026</th>\n",
       "      <td>48.8088</td>\n",
       "      <td>972</td>\n",
       "      <td>3.857143</td>\n",
       "      <td>32.096166</td>\n",
       "      <td>1.520707</td>\n",
       "    </tr>\n",
       "    <tr>\n",
       "      <th>01/07/2026</th>\n",
       "      <td>48.8088</td>\n",
       "      <td>1094</td>\n",
       "      <td>4.341270</td>\n",
       "      <td>30.451160</td>\n",
       "      <td>1.602857</td>\n",
       "    </tr>\n",
       "    <tr>\n",
       "      <th>01/01/2027</th>\n",
       "      <td>48.8088</td>\n",
       "      <td>1222</td>\n",
       "      <td>4.849206</td>\n",
       "      <td>28.815806</td>\n",
       "      <td>1.693822</td>\n",
       "    </tr>\n",
       "    <tr>\n",
       "      <th>01/07/2027</th>\n",
       "      <td>48.8088</td>\n",
       "      <td>1345</td>\n",
       "      <td>5.337302</td>\n",
       "      <td>27.327139</td>\n",
       "      <td>1.786094</td>\n",
       "    </tr>\n",
       "    <tr>\n",
       "      <th>01/01/2028</th>\n",
       "      <td>48.8088</td>\n",
       "      <td>1473</td>\n",
       "      <td>5.845238</td>\n",
       "      <td>25.859559</td>\n",
       "      <td>1.887459</td>\n",
       "    </tr>\n",
       "    <tr>\n",
       "      <th>01/07/2028</th>\n",
       "      <td>48.8088</td>\n",
       "      <td>1597</td>\n",
       "      <td>6.337302</td>\n",
       "      <td>24.513042</td>\n",
       "      <td>1.991138</td>\n",
       "    </tr>\n",
       "    <tr>\n",
       "      <th>01/01/2029</th>\n",
       "      <td>48.8088</td>\n",
       "      <td>1722</td>\n",
       "      <td>6.833333</td>\n",
       "      <td>23.226620</td>\n",
       "      <td>2.101419</td>\n",
       "    </tr>\n",
       "    <tr>\n",
       "      <th>01/07/2029</th>\n",
       "      <td>48.8088</td>\n",
       "      <td>1846</td>\n",
       "      <td>7.325397</td>\n",
       "      <td>22.017201</td>\n",
       "      <td>2.216851</td>\n",
       "    </tr>\n",
       "    <tr>\n",
       "      <th>01/01/2030</th>\n",
       "      <td>48.8088</td>\n",
       "      <td>1972</td>\n",
       "      <td>7.825397</td>\n",
       "      <td>20.852764</td>\n",
       "      <td>2.340642</td>\n",
       "    </tr>\n",
       "    <tr>\n",
       "      <th>01/07/2030</th>\n",
       "      <td>48.8088</td>\n",
       "      <td>2095</td>\n",
       "      <td>8.313492</td>\n",
       "      <td>19.775479</td>\n",
       "      <td>2.468150</td>\n",
       "    </tr>\n",
       "    <tr>\n",
       "      <th>01/01/2031</th>\n",
       "      <td>1048.8088</td>\n",
       "      <td>2225</td>\n",
       "      <td>8.829365</td>\n",
       "      <td>401.769674</td>\n",
       "      <td>2.610473</td>\n",
       "    </tr>\n",
       "  </tbody>\n",
       "</table>\n",
       "</div>"
      ],
      "text/plain": [
       "                   VF  Prazo Dias Uteis  Prazo Anualizado          PU  \\\n",
       "Data                                                                    \n",
       "01/07/2022    48.8088                89          0.353175   46.971000   \n",
       "01/01/2023    48.8088               216          0.857143   44.467636   \n",
       "01/07/2023    48.8088               340          1.349206   42.152189   \n",
       "01/01/2024    48.8088               465          1.845238   39.940081   \n",
       "01/07/2024    48.8088               589          2.337302   37.860387   \n",
       "01/01/2025    48.8088               719          2.853175   35.796240   \n",
       "01/07/2025    48.8088               841          3.337302   33.961596   \n",
       "01/01/2026    48.8088               972          3.857143   32.096166   \n",
       "01/07/2026    48.8088              1094          4.341270   30.451160   \n",
       "01/01/2027    48.8088              1222          4.849206   28.815806   \n",
       "01/07/2027    48.8088              1345          5.337302   27.327139   \n",
       "01/01/2028    48.8088              1473          5.845238   25.859559   \n",
       "01/07/2028    48.8088              1597          6.337302   24.513042   \n",
       "01/01/2029    48.8088              1722          6.833333   23.226620   \n",
       "01/07/2029    48.8088              1846          7.325397   22.017201   \n",
       "01/01/2030    48.8088              1972          7.825397   20.852764   \n",
       "01/07/2030    48.8088              2095          8.313492   19.775479   \n",
       "01/01/2031  1048.8088              2225          8.829365  401.769674   \n",
       "\n",
       "            Fator de Desconto  \n",
       "Data                           \n",
       "01/07/2022           1.039127  \n",
       "01/01/2023           1.097626  \n",
       "01/07/2023           1.157920  \n",
       "01/01/2024           1.222052  \n",
       "01/07/2024           1.289180  \n",
       "01/01/2025           1.363519  \n",
       "01/07/2025           1.437178  \n",
       "01/01/2026           1.520707  \n",
       "01/07/2026           1.602857  \n",
       "01/01/2027           1.693822  \n",
       "01/07/2027           1.786094  \n",
       "01/01/2028           1.887459  \n",
       "01/07/2028           1.991138  \n",
       "01/01/2029           2.101419  \n",
       "01/07/2029           2.216851  \n",
       "01/01/2030           2.340642  \n",
       "01/07/2030           2.468150  \n",
       "01/01/2031           2.610473  "
      ]
     },
     "execution_count": 17,
     "metadata": {},
     "output_type": "execute_result"
    }
   ],
   "source": [
    "df"
   ]
  },
  {
   "cell_type": "code",
   "execution_count": null,
   "id": "85efd7d7-52c4-4380-9cc0-37857610f224",
   "metadata": {},
   "outputs": [],
   "source": []
  }
 ],
 "metadata": {
  "kernelspec": {
   "display_name": "Python 3",
   "language": "python",
   "name": "python3"
  },
  "language_info": {
   "codemirror_mode": {
    "name": "ipython",
    "version": 3
   },
   "file_extension": ".py",
   "mimetype": "text/x-python",
   "name": "python",
   "nbconvert_exporter": "python",
   "pygments_lexer": "ipython3",
   "version": "3.8.5"
  },
  "latex_envs": {
   "LaTeX_envs_menu_present": true,
   "autoclose": false,
   "autocomplete": true,
   "bibliofile": "biblio.bib",
   "cite_by": "apalike",
   "current_citInitial": 1,
   "eqLabelWithNumbers": true,
   "eqNumInitial": 1,
   "hotkeys": {
    "equation": "Ctrl-E",
    "itemize": "Ctrl-I"
   },
   "labels_anchors": false,
   "latex_user_defs": false,
   "report_style_numbering": false,
   "user_envs_cfg": false
  },
  "toc": {
   "base_numbering": 1,
   "nav_menu": {},
   "number_sections": true,
   "sideBar": true,
   "skip_h1_title": false,
   "title_cell": "Table of Contents",
   "title_sidebar": "Contents",
   "toc_cell": false,
   "toc_position": {},
   "toc_section_display": true,
   "toc_window_display": false
  },
  "varInspector": {
   "cols": {
    "lenName": 16,
    "lenType": 16,
    "lenVar": 40
   },
   "kernels_config": {
    "python": {
     "delete_cmd_postfix": "",
     "delete_cmd_prefix": "del ",
     "library": "var_list.py",
     "varRefreshCmd": "print(var_dic_list())"
    },
    "r": {
     "delete_cmd_postfix": ") ",
     "delete_cmd_prefix": "rm(",
     "library": "var_list.r",
     "varRefreshCmd": "cat(var_dic_list()) "
    }
   },
   "types_to_exclude": [
    "module",
    "function",
    "builtin_function_or_method",
    "instance",
    "_Feature"
   ],
   "window_display": false
  }
 },
 "nbformat": 4,
 "nbformat_minor": 5
}
